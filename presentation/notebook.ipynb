{
 "cells": [
  {
   "cell_type": "markdown",
   "metadata": {},
   "source": [
    "###### Title: Substring matching with application to genomics/proteomics\n",
    "###### Authors: Aiman Al Masoud - Lotito Davide Pio\n",
    "###### Date: Feb 21, 2022\n",
    "<img src=\"./images/logoUnipvST.jpg\" width=\"50\" height=\"50\">"
   ]
  },
  {
   "cell_type": "code",
   "execution_count": 53,
   "metadata": {},
   "outputs": [],
   "source": [
    "# imports \n",
    "from matplotlib import pyplot as plt"
   ]
  },
  {
   "cell_type": "markdown",
   "metadata": {},
   "source": [
    "# 0) Context\n",
    "The context in which the program operates is that of searching for particular strings (typically <em>genes</em>) within a larger text, the entire <em>genome</em>. Genomes are made of DNA, an extremely large molecule that looks like a long ladder. This is the iconic DNA double helix. \n",
    "\n",
    "<img src=\"./images/dna1.png\" width=\"300\" height=\"300\" style=\"display: block; margin-left: auto; margin-right: auto; width: 50%;\">\n",
    "\n",
    "DNA is read like a code. This code is made up of four types of chemical building blocks (nucleotides): adenine, thymine, cytosine, and guanine, abbreviated with the letters A, T, C, and G. The order of the letters in this code allows DNA to function in different ways. Inside the DNA are genes, which are small sections of DNA that code for specific traits. Actually, there are both genes that code and genes that do not code for proteins. \n",
    "\n",
    "### eukaryotic vs prokaryotic\n",
    "An important division is made between eukaryotic cells and prokaryotic cells. Prokaryotes are single-celled organisms with a primitive cellular structure and simplified vital functioning compared to other living beings, for example bacteria such as Escherichia coli. Typically they have a single circular chromosome (DNA). While eukaryotic cells are more complex cells and have a DNA composed of one or more linear DNA chromosomes. Clearly an example is the human genome.\n",
    "\n",
    "For our texts we have the genome of two bacteria and a bee:\n",
    "* <em>Escherichia coli</em>: commonly found in the lower intestine of warm-blooded organisms, with a length of 4,600,000 nitrogenous base pairs\n",
    "* <em>Nostoc punctiforme</em>: with a length of about 9000000 nitrogenous base pairs\n",
    "* <em>Apis mellifera</em>: most common species of honey bees worldwide, with a total length of about 236000000 nitrogenous base pairs (16 chromosomes)\n",
    "\n",
    "The genomes used for the tests are taken from <a href=\"https://www.ncbi.nlm.nih.gov/genbank/\">https://www.ncbi.nlm.nih.gov/genbank/</a>."
   ]
  },
  {
   "cell_type": "markdown",
   "metadata": {},
   "source": [
    "# 1) Analysis of the Serial Algorithm"
   ]
  },
  {
   "cell_type": "markdown",
   "metadata": {},
   "source": [
    "\n",
    "## String Matching\n",
    "\n",
    "The algorithms for the search of substrings called pattern-string (of length $M$), in a larger string called text-string (of length $N$) are of fundamental importance, and have applications in many different fields. \n",
    "\n",
    "## The Rabin-Karp Algorithm\n",
    "\n",
    "It is an algorithm that uses a rolling-hash function that allows it to achieve performances in the order of $O(M + N)$, with high probability. This is a completely different approach to brute-force, substring searching is based on hashing. \n",
    "\n",
    "### The operations  can be summarized in these few lines:\n",
    "* Compute a hash function for the pattern\n",
    "* Aearch for a match using the same hash function for each possible substring of characters $M$ of the text\n",
    "* If we find a text substring with the same hash value as the pattern, check the match (Note: a matching hash does NOT imply a matching string)\n",
    "\n",
    "## Role of the Rolling-Hash Function:\n",
    "\n",
    "Be aware, however, that a direct implementation based on the above description would be much slower than a brute force search. Computing a hash function involving each character is probably much more expensive than just comparing characters. But Rabin and Karp showed that it is easy to compute hash functions for character substrings M in constant time (after some preprocessing). This leads to a search for substrings in linear time in practical situations, i.e. at the average performance (high probability) we have indicated.\n",
    "\n",
    "## How does the Hash work?\n",
    "\n",
    "The underlying theory is the following: we know that a string of length M corresponds to a base-$R$ number of $M$ digits ($R$: alphabet size). If I want to use a hash table of size $Q$ for keys of this type, we need a hash function to convert a base-$R$ $M$-digit number to an int value between $0$ and $Q-1$. Modular hashing can be a good idea:\n",
    "\n",
    "$hash (x) = x\\;mod\\;Q$\n",
    "\n",
    "Basically, we use $Q$, a random prime number, as large as possible.\n",
    "\n",
    "<img src=\"./images/image1.png\" width=\"300\" style=\"display: block; margin-left: auto; margin-right: auto; width: 50%;\">\n",
    "\n",
    "As already mentioned, Rabin-Karp does not compute hashing on all strings of length $M$, to find the one with the same hash and then make the comparison. But we use the \"mathematical trick\" exploited by Rabin and Karp.\n",
    "This \"trick\" leads, after preprocessing, to compute hashes in constant time. It exploits Horner's rule which states that it is possible to evaluate a polynomial of degree $N$ by carrying out only $N$ additions and $N$ multiplications. \n",
    "\n",
    "\n",
    "Example:\n",
    "\n",
    "$ a_{2}* x^{2} + a_{1} * x + ... + a_{0} = (a^{2} * x + a_{1}) * x + a_{0} $\n",
    "\n",
    "\n",
    "This identity holds true for modulo-arithmetics, the one we use for hashing, where the following applies:\n",
    "\n",
    "\n",
    "$ (a_{2} * x^{2} + a_{1} * x + ... + a_{0})\\;mod\\;z = (((a_{2} * x + a_{1})\\;mod\\;z) * x + a_{0})\\;mod\\;z $\n",
    "\n",
    "\n",
    "The Rabin-Karp method is based on efficiently computing the hash function $x_{i+1}$ for the position $i+1$ in the text, given its value for position $i$, $x_{i}$. Example:\n",
    "\n",
    "$ x_{i}= t_{i} * RM^{-1} + t_{i}+1 * RM^{-2} + ... + t_{i} + M^{-1} * R0 $\n",
    "$ x_{i+1} = t_{i+1} * RM + t_{i} * RM^{-1} + ... + t_{i} + M * R0 $\n",
    "\n",
    "$ x_{i+1} = (x_{i} - t_{i} * RM^{-1}) * R + t_{i}+M $\n",
    "\n",
    "We do not have to keep the values ​​of the numbers, only the values ​​of their remainder divided by $Q$. The algorithm is then used iteratively, calculating the hash of the next string, using that of the previous one as in the formula above.\n",
    "\n",
    "<img src=\"./images/image2.png\" width=\"300\" style=\"display: block; margin-left: auto; margin-right: auto; width: 50%;\">\n",
    "\n",
    "Once we find a hash value for a substring of text of characters M that matches the hash value of the pattern, we do not test for match or collision. Matching requires M to be matched against the text string and this degrades performance. But if we make $Q$ very large, we make the probability of a collision extremely small. With a $Q$ value greater than $10^{20}$, we make the probability of a collision equal to $10^{-20}$.\n",
    "\n",
    "This algorithm is a first and famous example of a <em>Monte Carlo</em> algorithm that has a guaranteed completion time but fails to provide a correct answer with a small probability.\n",
    "\n",
    "In our implementation of the algorithm, we actually do check the pattern against the substring each time their hashes match. This is due to the fact that using a very large $Q$-value can lead to overflows, or slow down the execution. This means that once a match is found by our program, it’s guaranteed to be a match."
   ]
  },
  {
   "cell_type": "markdown",
   "metadata": {},
   "source": [
    "Our implementation of the Rabin-Karp algorithm is as follows. This is a review of the C++ code found in the following repository: <a href=\"https://github.com/avinashk442/String-matching-algorithms-and-applications\">https://github.com/avinashk442/String-matching-algorithms-and-applications</a>."
   ]
  },
  {
   "cell_type": "markdown",
   "metadata": {},
   "source": [
    "    int search(char txt[] ,char pat[])\n",
    "    {\n",
    "        int M = strlen(pat);\n",
    "        int N = strlen(txt);\n",
    "        int cou = 0;\n",
    "        int i, j;   // indexs\n",
    "        int p = 0; // hash value for pattern\n",
    "        int t = 0; // hash value for txt\n",
    "        int h = 1; \n",
    "    \n",
    "        // The value of h would be \"pow(R, M-1)%q\"\n",
    "        // use for : do not use external library for pow\n",
    "        // use %Q : avoid overflow\n",
    "        for (i = 0; i < M-1; i++)\n",
    "            h = (h*R)%Q;\n",
    "    \n",
    "        // Calculate the hash value of pattern and first window of text \n",
    "        // inizialization\n",
    "        for (i = 0; i < M; i++)\n",
    "        {\n",
    "            p = (R*p + pat[i])%Q;\n",
    "            t = (R*t + txt[i])%Q;\n",
    "        }\n",
    "    \n",
    "        // Slide the pattern over text one by one\n",
    "        for (i = 0; i <= N - M; i++)\n",
    "        {   \n",
    "            // Check the hash values of current window of text and pattern. \n",
    "            // If the hash values match then only check for characters on by one\n",
    "            if ( p == t )\n",
    "            {\n",
    "                // Check for characters one by one\n",
    "                for (j = 0; j < M; j++)\n",
    "                {\n",
    "                    if (txt[i+j] != pat[j])\n",
    "                        break;\n",
    "                }\n",
    "                // if p == t and pat[0...M-1] = txt[i, i+1, ...i+M-1]\n",
    "                if (j == M)\n",
    "                    cou++;\n",
    "            }\n",
    "    \n",
    "            // Calculate hash value for next window of text: remove\n",
    "            // leading digit, add trailing digit\n",
    "            if ( i < N-M )\n",
    "            {\n",
    "                t = (R*(t - txt[i]*h) + txt[i+M])%Q;\n",
    "                // We might get negative value of t, converting it to positive\n",
    "                // Rabin-Karp algorithm assumes that the hashes result are always nonnegative\n",
    "                if (t < 0)\n",
    "                    t = (t + Q);\n",
    "            }\n",
    "        }\n",
    "        return cou;\n",
    "    }"
   ]
  },
  {
   "cell_type": "markdown",
   "metadata": {},
   "source": [
    "# 2) A Priori Study of Available Parallelism"
   ]
  },
  {
   "cell_type": "markdown",
   "metadata": {},
   "source": [
    "## The Problem\n",
    "\n",
    "As aforementioned, the Rabin-Karb algorithm for string-matching uses a rolling-hash to avoid having to repeat the computation of the hash for each window of text from scratch, and to achieve linear time complecity in the best case scenario.\n",
    "\n",
    "<img src=\"http://img.sparknotes.com/figures/E/e06912cfeeac4cade7d4527506538c17/rabin1.gif\" width=\"300\"></img>\n",
    "\n",
    "This effectively means that there's always a data-dependency between the current iteration and the one preceding it. In particular, this is an instance of a  **loop-carried dependence**: *statements in an iteration of a loop depend on statements in another iteration of the loop*. The presence of this dependence makes it hard to parallelize the algorithm itself: we cannot use the loop-unrolling technique. \n",
    "\n",
    "## Our Solution\n",
    "\n",
    "The approach we resorted to, was to split the text into $N$ parts (or $N$ \"sub-texts\"), where $N$ is the number of slave processes, and to assign a sub-text to each slave process. \n",
    "\n",
    "#### Role of the Master Process\n",
    "\n",
    "The master process starts out by reading the full text and the pattern to be searched in it. It splits the text into $N$ parts of equal length, and sends each part to a slave, togheter with the pattern, which is the same for everyone. \n",
    "\n",
    "Then the master waits for each slave process to return its result, ie: the number of occurences found in a slave's sub-text. \n",
    "\n",
    "#### Role of the Slave Processes\n",
    "\n",
    "A slave probes the size of the incoming message, using <em>MPI_Probe</em> and <em>MPI_Get_count</em>. It then allocates enough space in memory to store its assigned sub-text and the pattern to be searched for. \n",
    "\n",
    "The message from the master is a single string that includes both the sub-text and the pattern, separated by a designated char (that obviously can't appear in the text). \n",
    "\n",
    "The slave runs Rabin-Karp on the sub-text and the pattern, calling back the master when it is done searching, and returning its result.\n",
    "\n",
    "#### Working Hypothesis\n",
    "\n",
    "Assuming that the subtext is much larger than the pattern, we can neglect the remainder of the int division between text size and number of slaves. \n",
    "\n",
    "##### For example:\n",
    "\n",
    "* $ N = 7 $ (Number of slave processes, using N+1 cores).\n",
    "* $ M = 1000 $ (Size of the pattern).\n",
    "* $ T = 1000000 $ (Size of the full text).\n",
    "\n",
    "$ T\\;mod\\;N = 1 << M $       \n",
    "\n",
    "Hence it's not worth it, or even possible, to search for a pattern of size $M$ in a portion the text of size $ T mod N $."
   ]
  },
  {
   "cell_type": "markdown",
   "metadata": {},
   "source": [
    "### Calculating 'S' and 'P' for Amdahl's law equation\n",
    "\n",
    "Assuming that the ratio of C-slocs to Asm-slocs is approximately constant throughout the codebase."
   ]
  },
  {
   "cell_type": "markdown",
   "metadata": {},
   "source": [
    "### Lines of C/C++ Code:"
   ]
  },
  {
   "cell_type": "code",
   "execution_count": 54,
   "metadata": {},
   "outputs": [],
   "source": [
    "def count_lines(pathname):\n",
    "    import re\n",
    "    with open(pathname, \"r\") as f:\n",
    "        source = f.read()\n",
    "    source = source.split(\"\\n\") \n",
    "    source = [line for line in source if len(line.strip()) > 0 ]\n",
    "    source = [re.sub(\"\\\\s+\", \"\", line) for line in source]\n",
    "    source = [line for line in source if line[:2] != '//'  ]\n",
    "    return len(source)"
   ]
  },
  {
   "cell_type": "code",
   "execution_count": 55,
   "metadata": {},
   "outputs": [
    {
     "name": "stdout",
     "output_type": "stream",
     "text": [
      "The percentage of serial code is: 0.38\n",
      "The percentage of parallel code is: 0.62\n"
     ]
    }
   ],
   "source": [
    "# the rabin-karp part and roughly half of the main (slave).\n",
    "parallelizable = count_lines(\"../src/headers/rabin_karp.h\") +count_lines(\"../src/parallel/main.cpp\")/2\n",
    "\n",
    "# total\n",
    "total = parallelizable + count_lines(\"../src/parallel/main.cpp\")/2 + count_lines(\"../src/headers/read_file.h\")\n",
    "\n",
    "P = parallelizable/total\n",
    "S = 1-P\n",
    "print(\"The percentage of serial code is:\", round(S, 2))\n",
    "print(\"The percentage of parallel code is:\", round(P, 2))\n",
    "# S, P"
   ]
  },
  {
   "cell_type": "markdown",
   "metadata": {},
   "source": [
    "#### Applying Amdahl Law's Equation"
   ]
  },
  {
   "cell_type": "code",
   "execution_count": 56,
   "metadata": {},
   "outputs": [],
   "source": [
    "speedup = lambda N, S, P : 1 / (S + P/N)"
   ]
  },
  {
   "cell_type": "code",
   "execution_count": 57,
   "metadata": {},
   "outputs": [
    {
     "data": {
      "text/plain": [
       "'With 3 slave cores, the expected speed-up is: 1.703056768558952'"
      ]
     },
     "execution_count": 57,
     "metadata": {},
     "output_type": "execute_result"
    }
   ],
   "source": [
    "n_slaves = 3\n",
    "f\"With {n_slaves} slave cores, the expected speed-up is: {speedup(n_slaves, S, P)}\""
   ]
  },
  {
   "cell_type": "code",
   "execution_count": 58,
   "metadata": {},
   "outputs": [
    {
     "data": {
      "text/plain": [
       "[<matplotlib.lines.Line2D at 0x7f018519b460>]"
      ]
     },
     "execution_count": 58,
     "metadata": {},
     "output_type": "execute_result"
    },
    {
     "data": {
      "image/png": "[encoded data removed]",
      "text/plain": [
       "<Figure size 432x288 with 1 Axes>"
      ]
     },
     "metadata": {
      "needs_background": "light"
     },
     "output_type": "display_data"
    }
   ],
   "source": [
    "slaves = range(1, 12)\n",
    "plt.grid()\n",
    "plt.plot(slaves, list(map(lambda x: speedup(x, S, P), slaves)))"
   ]
  },
  {
   "cell_type": "markdown",
   "metadata": {},
   "source": [
    "### With Assembly slocs\n",
    "(Assuming ratio of C-slocs/Asm-slocs is NOT constant throughout the codebase)."
   ]
  },
  {
   "cell_type": "markdown",
   "metadata": {},
   "source": [
    "#### Decompiling the executable and counting the lines of code used by each part of the program:"
   ]
  },
  {
   "cell_type": "code",
   "execution_count": 59,
   "metadata": {},
   "outputs": [],
   "source": [
    "! mpic++ -g -O0 -fno-builtin ../src/parallel/main.cpp -o a.out\n",
    "!  objdump -fsd --source a.out > dump.txt\n",
    "! rm a.out\n",
    "asm_code = ! cat dump.txt\n"
   ]
  },
  {
   "cell_type": "markdown",
   "metadata": {},
   "source": [
    "##### Approx. Intervals from dump.txt (objump data):"
   ]
  },
  {
   "cell_type": "code",
   "execution_count": 60,
   "metadata": {},
   "outputs": [
    {
     "name": "stdout",
     "output_type": "stream",
     "text": [
      "The percentage of serial code is: 0.49\n",
      "The percentage of parallel code is: 0.51\n"
     ]
    }
   ],
   "source": [
    "dif = lambda a, b : abs(a-b) # distance between a and b \n",
    "master = dif( *[asm_code.index(x) for x in asm_code if \"MASTER\" in x])\n",
    "slave = dif( *[asm_code.index(x) for x in asm_code if \"SLAVE\" in x])\n",
    "search = dif( *[asm_code.index(x) for x in asm_code if \"RABINKARP\" in x])\n",
    "read = dif( *[asm_code.index(x) for x in asm_code if \"READFILE\" in x])\n",
    "\n",
    "tot = master+slave+search+read\n",
    "P = (slave+search)/tot\n",
    "S = 1 - P\n",
    "\n",
    "print(\"The percentage of serial code is:\", round(S, 2))\n",
    "print(\"The percentage of parallel code is:\", round(P, 2))\n"
   ]
  },
  {
   "cell_type": "markdown",
   "metadata": {},
   "source": [
    "#### Applying Amdahl Law's Equation"
   ]
  },
  {
   "cell_type": "code",
   "execution_count": 61,
   "metadata": {},
   "outputs": [
    {
     "data": {
      "text/plain": [
       "'With 3 slave cores, the expected speed-up is: 1.5125'"
      ]
     },
     "execution_count": 61,
     "metadata": {},
     "output_type": "execute_result"
    }
   ],
   "source": [
    "n_slaves = 3\n",
    "f\"With {n_slaves} slave cores, the expected speed-up is: {speedup(n_slaves, S, P)}\""
   ]
  },
  {
   "cell_type": "code",
   "execution_count": 62,
   "metadata": {},
   "outputs": [
    {
     "data": {
      "text/plain": [
       "[<matplotlib.lines.Line2D at 0x7f0185031910>]"
      ]
     },
     "execution_count": 62,
     "metadata": {},
     "output_type": "execute_result"
    },
    {
     "data": {
      "image/png": "[encoded data removed]",
      "text/plain": [
       "<Figure size 432x288 with 1 Axes>"
      ]
     },
     "metadata": {
      "needs_background": "light"
     },
     "output_type": "display_data"
    }
   ],
   "source": [
    "slaves = range(1, 12)\n",
    "plt.grid()\n",
    "plt.plot(slaves, list(map(lambda x: speedup(x, S, P), slaves)))"
   ]
  },
  {
   "cell_type": "markdown",
   "metadata": {},
   "source": [
    "# 3) MPI parallel implementation"
   ]
  },
  {
   "cell_type": "markdown",
   "metadata": {},
   "source": [
    "Here are the main parts of our parallel C ++ program using openMPI."
   ]
  },
  {
   "cell_type": "markdown",
   "metadata": {},
   "source": [
    "### Master side"
   ]
  },
  {
   "cell_type": "markdown",
   "metadata": {},
   "source": [
    "Send the sub-text to the slaves\n",
    "\n",
    "\tfor (int p = 1; p < size; ++p) {\n",
    "\t\t\t\n",
    "\t\tstring subtxt = txt.substr(offset, payLoadSize);\n",
    "\t\tstring message = string(subtxt)+SEPARATOR+string(pat)+\"\\0\";\n",
    "\t\tretVal = MPI_Send(message.c_str(),  message.length() , MPI_CHAR, p, TAG, MPI_COMM_WORLD);\n",
    "\t\toffset+=payLoadSize;\n",
    "\t}\n",
    "\n",
    "Waits for the slaves to finish and receives the value\n",
    "\n",
    "\tfor (int p = 1; p < size; ++p){\n",
    "\t\tMPI_Recv(&result, 1, MPI_INT, p, TAG, MPI_COMM_WORLD, &status);\n",
    "\t\tresults+=result;\n",
    "\t}"
   ]
  },
  {
   "cell_type": "markdown",
   "metadata": {},
   "source": [
    "### Slave side"
   ]
  },
  {
   "cell_type": "markdown",
   "metadata": {},
   "source": [
    "Probe for an incoming message from master. When probe returns, the status object has the size and other attributes of the incoming message.  \n",
    "\n",
    "    MPI_Status status;\n",
    "    MPI_Probe(0, TAG, MPI_COMM_WORLD, &status);\n",
    "\t\n",
    "\tint messageSize; //size of the incoming string\n",
    "    MPI_Get_count(&status, MPI_CHAR, &messageSize);\n",
    "\n",
    "So we can get the message size  and allocate the necessary memory for the salve to memorize it.\n",
    "\n",
    "    int numBytes = sizeof(char)*(messageSize);\n",
    "\tchar* buf = (char*)malloc(numBytes);\n",
    "\n",
    "Then it receives the \"message\" from the master, splits the string in sub-text and pattern. Finally proceeds with the search.\n",
    "\n",
    "    retVal = MPI_Recv(buf, messageSize, MPI_CHAR, 0, TAG, MPI_COMM_WORLD, MPI_STATUS_IGNORE);\n",
    "\n",
    "\ttext = strtok(buf, SEPARATOR);\n",
    "\tpattern = strtok(NULL, SEPARATOR);\n",
    "\n",
    "    int result = search(text, pattern);\n",
    "\n",
    "Finally, send the result to the master.\n",
    "\n",
    "    retVal = MPI_Send(&result, 1, MPI_INT, 0, TAG, MPI_COMM_WORLD);\n"
   ]
  },
  {
   "cell_type": "markdown",
   "metadata": {},
   "source": [
    "# 4) Testing and debugging"
   ]
  },
  {
   "cell_type": "markdown",
   "metadata": {},
   "source": []
  },
  {
   "cell_type": "markdown",
   "metadata": {},
   "source": [
    "# 5) Performance and scalibility analysis"
   ]
  },
  {
   "cell_type": "markdown",
   "metadata": {},
   "source": [
    "All testing, performance and scalability, was conducted on the Google Cloud Platform. In particular, we created the cluster according to the \"light cluster\" technique consisting of 7 machines (1 master and 6 slaves). Each with 2vCores and 8GB of memory. All machines are within the same geographic region.\n",
    "\n",
    "<img src=\"./images/cluster7.png\" width=\"300\" style=\"display: block; margin-left: auto; margin-right: auto; width: 50%;\">"
   ]
  },
  {
   "cell_type": "markdown",
   "metadata": {},
   "source": [
    "# Conclusions"
   ]
  }
 ],
 "metadata": {
  "interpreter": {
   "hash": "916dbcbb3f70747c44a77c7bcd40155683ae19c65e1c03b4aa3499c5328201f1"
  },
  "kernelspec": {
   "display_name": "Python 3.8.10 64-bit",
   "language": "python",
   "name": "python3"
  },
  "language_info": {
   "codemirror_mode": {
    "name": "ipython",
    "version": 3
   },
   "file_extension": ".py",
   "mimetype": "text/x-python",
   "name": "python",
   "nbconvert_exporter": "python",
   "pygments_lexer": "ipython3",
   "version": "3.8.10"
  },
  "orig_nbformat": 4
 },
 "nbformat": 4,
 "nbformat_minor": 2
}
