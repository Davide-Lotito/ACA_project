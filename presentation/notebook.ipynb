{
 "cells": [
  {
   "cell_type": "markdown",
   "metadata": {},
   "source": [
    "###### Title: Substring matching with application to genomics/proteomics\n",
    "###### Authors: Aiman Al Masoud - Lotito Davide Pio\n",
    "###### Date: Feb 21, 2022\n",
    "<img src=\"./images/logoUnipvST.jpg\" width=\"50\" height=\"50\">"
   ]
  },
  {
   "cell_type": "code",
   "execution_count": 1,
   "metadata": {},
   "outputs": [],
   "source": [
    "# imports \n",
    "from matplotlib import pyplot as plt\n",
    "import pandas as pd"
   ]
  },
  {
   "cell_type": "markdown",
   "metadata": {},
   "source": [
    "# 0) Context\n",
    "Our program operates in the context of searching for <em>Genes</em> within the <em>Genome</em> of a species. A Genome is the set of all of the genes of an organism. For most organisms, it is entirely made out of DNA (Deoxyribonucleic Acid): an extremely large molecule, that looks like a long twisted ladder. Below is a graphical representation of the the iconic DNA double helix. \n",
    "\n",
    "<img src=\"./images/dna1.png\" width=\"300\" height=\"300\" style=\"display: block; margin-left: auto; margin-right: auto; width: 50%;\">\n",
    "\n",
    "It is an organic polymer that encodes the genetic information of an organism. It is itself made up of four different kinds of basic chemical building-blocks (nucleotides): **Adenine, Thymine, Cytosine, and Guanine**, conventionally represented by the letters: **A, T, C, and G**, respectively. Despite it being an organic molecule, the sequence of base-pairs can be conceptualized just like a huge string of computer-code, containing different combinations of the 4 characters: A, T, C, and G.\n",
    "\n",
    "The order of the letters in this code matters, allowing DNA to function in different ways. Inside the DNA are genes, which are smaller sections (substrings) of DNA that code for specific traits. Some genes code for specific proteins and some do not.\n",
    "\n",
    "\n",
    "### Eukaryotes vs Prokaryotes\n",
    "An important distinction is made between eukaryotic cells and prokaryotic cells. Prokaryotes are single-celled organisms, with a primitive cellular structure and simplified vital functioning compared to more complex living things. An example of a Eukaryote is a bacterium, such as Escherichia coli. Typically they have a single circular chromosome (DNA). Eukaryotic cells are more complex, and have a DNA composed of one or more linear DNA chromosomes, an example of which is the human genome.\n",
    "\n",
    "As our corpus, we picked the genomes of two bacteria and an insect (the honey bee):\n",
    "\n",
    "* <em>Escherichia coli</em>: commonly found in the lower intestine of warm-blooded organisms, with a length of 5,000,000 nitrogenous base pairs.\n",
    "* <em>Nostoc punctiforme</em>: with a length of about 9,000,000 nitrogenous base pairs\n",
    "* <em>Apis mellifera</em>: most common species of honey bee worldwide, with a total length of about 236,000,000 nitrogenous base pairs (split into 16 chromosomes)\n",
    "\n",
    "The genomes used for our analysis are all taken from the NCBI's website: <a href=\"https://www.ncbi.nlm.nih.gov/genbank/\">https://www.ncbi.nlm.nih.gov/genbank/</a>.\n",
    "\n",
    "* E. coli: <br>\n",
    "<a href=\"https://www.ncbi.nlm.nih.gov/data-hub/taxonomy/562/\">https://www.ncbi.nlm.nih.gov/data-hub/taxonomy/562/</a>\n",
    "\n",
    "* N. punctiforme: <br>\n",
    "<a href=\"https://www.ncbi.nlm.nih.gov/labs/data-hub/taxonomy/272131/\">https://www.ncbi.nlm.nih.gov/labs/data-hub/taxonomy/272131/</a>\n",
    "\n",
    "* A. mellifera: <br>\n",
    "<a href=\"https://www.ncbi.nlm.nih.gov/labs/data-hub/taxonomy/7460/\">https://www.ncbi.nlm.nih.gov/labs/data-hub/taxonomy/7460/</a>\n",
    "\n"
   ]
  },
  {
   "cell_type": "markdown",
   "metadata": {},
   "source": [
    "# 1) Analysis of the Serial Algorithm"
   ]
  },
  {
   "cell_type": "markdown",
   "metadata": {},
   "source": [
    "\n",
    "## String Matching\n",
    "\n",
    "The algorithms for the search of substrings called pattern-string (of length $M$), in a larger string called text-string (of length $N$) are of fundamental importance, and have applications in many different fields, including Genomics and Proteomics. \n",
    "\n",
    "## The Rabin-Karp Algorithm\n",
    "\n",
    "The string-matching algorithm we chose to use for our project is the Rabin-Karp Algorithm.\n",
    "The Rabin-Karp Algorithm makes use of a rolling-hash function that allows it to achieve performances in the order of $O(M + N)$, with high probability. This is a completely different approach to brute-force, as the search for substrings is based on hashing. \n",
    "\n",
    "### The operations can be roughly summarized in these few lines:\n",
    "* Compute a hash function $h(P)$ for a given pattern $P$.\n",
    "* Search for a match, using the same hash function for each possible substring of characters $M$ of the text.\n",
    "* If you find a substring with the same hash value as the pattern, compare the characters one by one (Note: a matching hash does NOT imply a matching string).\n",
    "\n",
    "## Role of the Rolling-Hash Function:\n",
    "\n",
    "Be aware, however, that a direct implementation based on the above description would be much slower than a brute force search. Computing a hash function involving each character is probably much more expensive than just comparing the characters. But Rabin and Karp showed that it is easy to compute hash functions for character substrings M in constant time (after some preprocessing). This leads to a search for substrings in linear time (average performance) in the practical situations we have indicated. \n",
    "\n",
    "## How does the Hash work?\n",
    "\n",
    "The underlying theory is the following: we know that a string of length M corresponds to a base-$R$ number of $M$ digits ($R$: alphabet size). If we want to use a hash table of size $Q$ for keys of this type, we need a hash function to convert any base-$R$ $M$-digit number to an int value between $0$ and $Q-1$. Modular hashing can be a good idea:\n",
    "\n",
    "$hash (x) = x\\;mod\\;Q$\n",
    "\n",
    "Basically, we use $Q$, a random prime number, as large as possible.\n",
    "\n",
    "<img src=\"./images/image1.png\" width=\"300\" style=\"display: block; margin-left: auto; margin-right: auto; width: 50%;\">\n",
    "\n",
    "As already mentioned, Rabin-Karp does not compute hashing on all strings of length $M$, to find the one with the same hash and then make the comparison. But it makes use of a \"mathematical trick\" leveraged by Rabin and Karp.\n",
    "\n",
    "This strategy leads, after some preprocessing, to compute hashes in constant time. The key to this strategy is Horner's rule: which states that it is possible to evaluate a polynomial of degree $N$ by carrying out exactly $N$ additions and $N$ multiplications. \n",
    "\n",
    "\n",
    "Example:\n",
    "\n",
    "$ a_{2}* x^{2} + a_{1} * x + ... + a_{0} = (a^{2} * x + a_{1}) * x + a_{0} $\n",
    "\n",
    "\n",
    "This identity holds true for *Modular Arithmetic*, the flavor of arithmetic used for hashing, where the following applies:\n",
    "\n",
    "\n",
    "$ (a_{2} * x^{2} + a_{1} * x + ... + a_{0})\\;mod\\;z = (((a_{2} * x + a_{1})\\;mod\\;z) * x + a_{0})\\;mod\\;z $\n",
    "\n",
    "\n",
    "The Rabin-Karp method is based on efficiently computing the hash function $x_{i+1}$ for the position $i+1$ in the text, given its value for position $i$, $x_{i}$. Example:\n",
    "\n",
    "$ x_{i}= t_{i} * RM^{-1} + t_{i}+1 * RM^{-2} + ... + t_{i} + M^{-1} * R0 $\n",
    "$ x_{i+1} = t_{i+1} * RM + t_{i} * RM^{-1} + ... + t_{i} + M * R0 $\n",
    "\n",
    "$ x_{i+1} = (x_{i} - t_{i} * RM^{-1}) * R + t_{i}+M $\n",
    "\n",
    "We do not have to keep the values ​​of the numbers, only the values ​​of their remainder divided by $Q$. The algorithm is then used iteratively, calculating the hash of the next string, using that of the previous one as in the formula above.\n",
    "\n",
    "<img src=\"./images/image2.png\" width=\"300\" style=\"display: block; margin-left: auto; margin-right: auto; width: 50%;\">\n",
    "\n",
    "\n",
    "This algorithm is a first and famous example of a <em>Monte Carlo</em> algorithm, that has a guaranteed completion time, with a possibility for false positives, that can be made arbitrarily small. \n",
    "\n",
    "Once we find a hash value for a substring of text of characters M that matches the hash value of the pattern, we may or may not want to double-check by comparing each character. \n",
    "\n",
    "Double-checking requires each character of the string of text M to be matched against each character of the pattern, and this degrades the performance: since in the unfortunate event of frequent false-positives, it turns the issue at hand into an $O(M*N)$ problem, just like the brute-force algorithm. Picking an arbitrarily large value for $Q$, we can make the probability of a collision (false-positive) arbitrarily small. With a $Q$ value greater than $10^{20}$, we make the probability of a collision equal to $10^{-20}$.\n",
    "\n",
    "However, in our implementation of the algorithm, we chose to doble-check the pattern against the substring each time their hashes match. This is due to the fact that using a very large value for $Q$ can lead to overflows, or slow down the execution. This also means that once a match is found by our program, it’s guaranteed to be a match."
   ]
  },
  {
   "cell_type": "markdown",
   "metadata": {},
   "source": [
    "Our implementation of the Rabin-Karp algorithm is as follows:\n",
    "\n",
    "\n",
    "It is based on the C++ code found at the following GitHub repository:\n",
    "\n",
    " <a href=\"https://github.com/avinashk442/String-matching-algorithms-and-applications\">https://github.com/avinashk442/String-matching-algorithms-and-applications</a>"
   ]
  },
  {
   "cell_type": "markdown",
   "metadata": {},
   "source": [
    "```\n",
    "    int search(char txt[] ,char pat[])\n",
    "    {\n",
    "        int M = strlen(pat);\n",
    "        int N = strlen(txt);\n",
    "        int cou = 0;\n",
    "        int i, j;   // indexs\n",
    "        int p = 0; // hash value for pattern\n",
    "        int t = 0; // hash value for txt\n",
    "        int h = 1; \n",
    "    \n",
    "        // The value of h would be \"pow(R, M-1)%q\"\n",
    "        // use for : do not use external library for pow\n",
    "        // use %Q : avoid overflow\n",
    "        for (i = 0; i < M-1; i++)\n",
    "            h = (h*R)%Q;\n",
    "    \n",
    "        // Calculate the hash value of pattern and first window of text \n",
    "        // inizialization\n",
    "        for (i = 0; i < M; i++)\n",
    "        {\n",
    "            p = (R*p + pat[i])%Q;\n",
    "            t = (R*t + txt[i])%Q;\n",
    "        }\n",
    "    \n",
    "        // Slide the pattern over text one by one\n",
    "        for (i = 0; i <= N - M; i++)\n",
    "        {   \n",
    "            // Check the hash values of current window of text and pattern. \n",
    "            // If the hash values match then only check for characters on by one\n",
    "            if ( p == t )\n",
    "            {\n",
    "                // Check for characters one by one\n",
    "                for (j = 0; j < M; j++)\n",
    "                {\n",
    "                    if (txt[i+j] != pat[j])\n",
    "                        break;\n",
    "                }\n",
    "                // if p == t and pat[0...M-1] = txt[i, i+1, ...i+M-1]\n",
    "                if (j == M)\n",
    "                    cou++;\n",
    "            }\n",
    "    \n",
    "            // Calculate hash value for next window of text: remove\n",
    "            // leading digit, add trailing digit\n",
    "            if ( i < N-M )\n",
    "            {\n",
    "                t = (R*(t - txt[i]*h) + txt[i+M])%Q;\n",
    "                // We might get negative value of t, converting it to positive\n",
    "                // Rabin-Karp algorithm assumes that the hashes result are always nonnegative\n",
    "                if (t < 0)\n",
    "                    t = (t + Q);\n",
    "            }\n",
    "        }\n",
    "        return cou;\n",
    "    }\n",
    "\n",
    "```"
   ]
  },
  {
   "cell_type": "markdown",
   "metadata": {},
   "source": [
    "# 2) A Priori Study of Available Parallelism"
   ]
  },
  {
   "cell_type": "markdown",
   "metadata": {},
   "source": [
    "## The Problem\n",
    "\n",
    "As aforementioned, the Rabin-Karb algorithm for string-matching uses a rolling-hash to avoid having to repeat the computation of the hash for each window of text from scratch, and to achieve linear time complecity in the best-case and common scenarios.\n",
    "\n",
    "<img src=\"http://img.sparknotes.com/figures/E/e06912cfeeac4cade7d4527506538c17/rabin1.gif\" width=\"300\"></img>\n",
    "\n",
    "This effectively means that there's always a data-dependency between the current iteration and the one preceding it. In particular, this is an instance of a  **loop-carried dependence**: *statements in an iteration of a loop depend on statements in another iteration of the loop*. The presence of this dependence makes it hard to parallelize the algorithm itself: we cannot use the loop-unrolling technique. \n",
    "\n",
    "## Our Solution\n",
    "\n",
    "The approach we resorted to, was to split the text into $N$ parts (or $N$ \"sub-texts\"), where $N$ is the number of slave processes, and to assign a sub-text to each slave process. \n",
    "\n",
    "#### Role of the Master Process\n",
    "\n",
    "The master process starts out by reading the full text and the pattern to be searched in it. It splits the text into $N$ parts of equal length, and sends each part to a slave, togheter with the pattern, which is the same for everyone. \n",
    "\n",
    "Then the master waits for each slave process to return its result, ie: the number of occurences found in a slave's sub-text. \n",
    "\n",
    "#### Role of the Slave Processes\n",
    "\n",
    "A slave probes the size of the incoming message, using <em>MPI_Probe</em> and <em>MPI_Get_count</em>. It then allocates enough space in memory to store its assigned sub-text and the pattern to be searched for. \n",
    "\n",
    "The message from the master is a single string that includes both the sub-text and the pattern, separated by a designated char (that obviously can't appear in the text). \n",
    "\n",
    "The slave runs Rabin-Karp on the sub-text and the pattern, calling back the master when it is done searching, and returning its result.\n",
    "\n",
    "#### Working Hypothesis\n",
    "\n",
    "Assuming that the subtext is much larger than the pattern, we can neglect the remainder of the int division between text size and number of slaves. \n",
    "\n",
    "##### For example:\n",
    "\n",
    "* $ N = 7 $ (Number of slave processes, using $N+1 =8$ total cores).\n",
    "* $ M = 1000 $ (Size of the pattern).\n",
    "* $ T = 1000000 $ (Size of the full text).\n",
    "\n",
    "$ T\\;mod\\;N = 1 << M $       \n",
    "\n",
    "Hence it's not worth it, or even possible, to search for a pattern of size $M$ in a portion the text of size $ T mod N $."
   ]
  },
  {
   "cell_type": "markdown",
   "metadata": {},
   "source": [
    "### Calculating $S$ and $P$ for the Amdahl-Law's Equation\n",
    "\n",
    "Assuming that the ratio of C-slocs to Asm-slocs is approximately constant throughout the codebase.\n",
    "\n",
    "$S$ : portion of serial (non-parallelizable) code \n",
    "\n",
    "$P$ : portion of parallelizable code.\n",
    "\n"
   ]
  },
  {
   "cell_type": "markdown",
   "metadata": {},
   "source": [
    "### Lines of C/C++ Code:"
   ]
  },
  {
   "cell_type": "code",
   "execution_count": 23,
   "metadata": {},
   "outputs": [],
   "source": [
    "def count_lines(pathname):\n",
    "    \"\"\"\n",
    "    Counts significant lines of code in a C program without multiline comments.\n",
    "    \"\"\"\n",
    "    import re\n",
    "    with open(pathname, \"r\") as f:\n",
    "        source = f.read()\n",
    "    source = source.split(\"\\n\") \n",
    "    source = [line for line in source if len(line.strip()) > 0 ]\n",
    "    source = [re.sub(\"\\\\s+\", \"\", line) for line in source]\n",
    "    source = [line for line in source if line[:2] != '//'  ]\n",
    "    return len(source)"
   ]
  },
  {
   "cell_type": "code",
   "execution_count": 3,
   "metadata": {},
   "outputs": [
    {
     "name": "stdout",
     "output_type": "stream",
     "text": [
      "The percentage of serial code is: 0.36\n",
      "The percentage of parallel code is: 0.64\n"
     ]
    }
   ],
   "source": [
    "# the rabin-karp part and roughly half of the main (slave).\n",
    "parallelizable = count_lines(\"../src/headers/rabin_karp.h\") +count_lines(\"../src/parallel/main.cpp\")/2\n",
    "\n",
    "# total\n",
    "total = parallelizable + count_lines(\"../src/parallel/main.cpp\")/2 + count_lines(\"../src/headers/read_file.h\")\n",
    "\n",
    "P = parallelizable/total\n",
    "S = 1-P\n",
    "print(\"The percentage of serial code is:\", round(S, 2))\n",
    "print(\"The percentage of parallel code is:\", round(P, 2))"
   ]
  },
  {
   "cell_type": "markdown",
   "metadata": {},
   "source": [
    "#### Applying Amdahl Law's Equation"
   ]
  },
  {
   "cell_type": "code",
   "execution_count": 4,
   "metadata": {},
   "outputs": [],
   "source": [
    "speedup = lambda N, S, P : 1 / (S + P/N)"
   ]
  },
  {
   "cell_type": "code",
   "execution_count": 5,
   "metadata": {},
   "outputs": [
    {
     "data": {
      "text/plain": [
       "'With 3 slave cores, the expected speed-up is: 1.7345971563981044'"
      ]
     },
     "execution_count": 5,
     "metadata": {},
     "output_type": "execute_result"
    }
   ],
   "source": [
    "n_slaves = 3\n",
    "f\"With {n_slaves} slave cores, the expected speed-up is: {speedup(n_slaves, S, P)}\""
   ]
  },
  {
   "cell_type": "markdown",
   "metadata": {},
   "source": [
    "### Plotting the expected curve\n",
    "(From 1 to 12 slaves)"
   ]
  },
  {
   "cell_type": "code",
   "execution_count": 26,
   "metadata": {},
   "outputs": [
    {
     "data": {
      "image/png": "[encoded data removed]",
      "text/plain": [
       "<Figure size 432x288 with 1 Axes>"
      ]
     },
     "metadata": {
      "needs_background": "light"
     },
     "output_type": "display_data"
    }
   ],
   "source": [
    "plt.plot(slaves, list(map(lambda x: speedup(x, S, P), range(1, 12))))\n",
    "plt.grid()"
   ]
  },
  {
   "cell_type": "markdown",
   "metadata": {},
   "source": [
    "### With Assembly slocs\n",
    "(Assuming ratio of C-slocs/Asm-slocs is NOT constant throughout the codebase)."
   ]
  },
  {
   "cell_type": "markdown",
   "metadata": {},
   "source": [
    "#### Decompiling the executable and counting the lines of code used by each part of the program:"
   ]
  },
  {
   "cell_type": "code",
   "execution_count": 7,
   "metadata": {},
   "outputs": [],
   "source": [
    "! mpic++ -g -O0 -fno-builtin ../src/parallel/main.cpp -o a.out\n",
    "! objdump -fsd --source a.out > dump.txt\n",
    "! rm a.out\n",
    "asm_code = ! cat dump.txt"
   ]
  },
  {
   "cell_type": "markdown",
   "metadata": {},
   "source": [
    "##### Approx. Intervals from dump.txt (objump data):"
   ]
  },
  {
   "cell_type": "code",
   "execution_count": 8,
   "metadata": {},
   "outputs": [
    {
     "name": "stdout",
     "output_type": "stream",
     "text": [
      "The percentage of serial code is: 0.47\n",
      "The percentage of parallel code is: 0.53\n"
     ]
    }
   ],
   "source": [
    "dif = lambda a, b : abs(a-b) # distance between a and b \n",
    "master = dif( *[asm_code.index(x) for x in asm_code if \"MASTER\" in x])\n",
    "slave = dif( *[asm_code.index(x) for x in asm_code if \"SLAVE\" in x])\n",
    "search = dif( *[asm_code.index(x) for x in asm_code if \"RABINKARP\" in x])\n",
    "read = dif( *[asm_code.index(x) for x in asm_code if \"READFILE\" in x])\n",
    "common = dif( *[asm_code.index(x) for x in asm_code if \"COMMON\" in x])\n",
    "common2 = dif( *[asm_code.index(x) for x in asm_code if \"FINALCOM\" in x])\n",
    "\n",
    "tot = master+slave+search+read+common+common2\n",
    "P = (slave+search+common+common2)/tot\n",
    "S = 1 - P\n",
    "\n",
    "print(\"The percentage of serial code is:\", round(S, 2))\n",
    "print(\"The percentage of parallel code is:\", round(P, 2))\n"
   ]
  },
  {
   "cell_type": "markdown",
   "metadata": {},
   "source": [
    "#### Applying Amdahl Law's Equation"
   ]
  },
  {
   "cell_type": "code",
   "execution_count": 9,
   "metadata": {},
   "outputs": [
    {
     "data": {
      "text/plain": [
       "'With 3 slave cores, the expected speed-up is: 1.5517241379310345'"
      ]
     },
     "execution_count": 9,
     "metadata": {},
     "output_type": "execute_result"
    }
   ],
   "source": [
    "n_slaves = 3\n",
    "f\"With {n_slaves} slave cores, the expected speed-up is: {speedup(n_slaves, S, P)}\""
   ]
  },
  {
   "cell_type": "markdown",
   "metadata": {},
   "source": [
    "### Plotting the expected curve\n",
    "(From 1 to 12 slaves)"
   ]
  },
  {
   "cell_type": "code",
   "execution_count": 27,
   "metadata": {},
   "outputs": [
    {
     "data": {
      "image/png": "[encoded data removed]",
      "text/plain": [
       "<Figure size 432x288 with 1 Axes>"
      ]
     },
     "metadata": {
      "needs_background": "light"
     },
     "output_type": "display_data"
    }
   ],
   "source": [
    "plt.plot(slaves, list(map(lambda x: speedup(x, S, P), range(1, 12))))\n",
    "plt.grid()"
   ]
  },
  {
   "cell_type": "markdown",
   "metadata": {},
   "source": [
    "# 3) MPI parallel implementation"
   ]
  },
  {
   "cell_type": "markdown",
   "metadata": {},
   "source": [
    "Here are the main parts of our parallel C++ implementation using openMPI."
   ]
  },
  {
   "cell_type": "markdown",
   "metadata": {},
   "source": [
    "### Master's side"
   ]
  },
  {
   "cell_type": "markdown",
   "metadata": {},
   "source": [
    "Send the sub-text to the slaves\n",
    "```\n",
    "\tfor (int p = 1; p < size; ++p) {\n",
    "\t\t\t\n",
    "\t\tstring subtxt = txt.substr(offset, payLoadSize);\n",
    "\t\tstring message = string(subtxt)+SEPARATOR+string(pat)+\"\\0\";\n",
    "\t\tretVal = MPI_Send(message.c_str(),  message.length() , MPI_CHAR, p, TAG, MPI_COMM_WORLD);\n",
    "\t\toffset+=payLoadSize;\n",
    "\t}\n",
    "```\n",
    "\n",
    "Waits for the slaves to finish and receives the occurrences count\n",
    "\n",
    "```\n",
    "\tfor (int p = 1; p < size; ++p){\n",
    "\t\tMPI_Recv(&result, 1, MPI_INT, p, TAG, MPI_COMM_WORLD, &status);\n",
    "\t\tresults+=result;\n",
    "\t}\n",
    "```"
   ]
  },
  {
   "cell_type": "markdown",
   "metadata": {},
   "source": [
    "### Slave's side"
   ]
  },
  {
   "cell_type": "markdown",
   "metadata": {},
   "source": [
    "Probe for an incoming message from master. When probe returns, the status object has the size and other attributes of the incoming message.  \n",
    "\n",
    "```\n",
    "    MPI_Status status;\n",
    "    MPI_Probe(0, TAG, MPI_COMM_WORLD, &status);\n",
    "\t\n",
    "\tint messageSize; //size of the incoming string\n",
    "    MPI_Get_count(&status, MPI_CHAR, &messageSize);\n",
    "```\n",
    "\n",
    "So we can get the message size  and allocate the necessary memory for the salve to store it.\n",
    "\n",
    "```\n",
    "    int numBytes = sizeof(char)*(messageSize);\n",
    "\tchar* buf = (char*)malloc(numBytes);\n",
    "```\n",
    "\n",
    "Then it receives the \"message\" from the master, splits the string in sub-text and pattern. Finally proceeds with the search.\n",
    "\n",
    "```\n",
    "    retVal = MPI_Recv(buf, messageSize, MPI_CHAR, 0, TAG, MPI_COMM_WORLD, MPI_STATUS_IGNORE);\n",
    "\n",
    "\ttext = strtok(buf, SEPARATOR);\n",
    "\tpattern = strtok(NULL, SEPARATOR);\n",
    "\n",
    "    int result = search(text, pattern);\n",
    "```\n",
    "\n",
    "Finally, send the result to the master.\n",
    "```\n",
    "    retVal = MPI_Send(&result, 1, MPI_INT, 0, TAG, MPI_COMM_WORLD);\n",
    "```"
   ]
  },
  {
   "cell_type": "markdown",
   "metadata": {},
   "source": [
    "# 4) Testing and Debugging"
   ]
  },
  {
   "cell_type": "markdown",
   "metadata": {},
   "source": [
    "For our performance tests, both in terms of timing and memory, we used three techniques:\n",
    "* <em>clock()</em>: a C++ function that returns the processor time consumed by the program, divided by CLOCKS_PER_SEC we obtain time in seconds\n",
    "* <em>Valgrind framework</em>: used to check the memory usage of our program\n",
    "\n",
    "The data-sets used for the tests are those already mentioned:\n",
    "* <em>Escherichia coli</em>: with a lenght of about 5,000,000 nitrogenous base pairs\n",
    "* <em>Nostoc punctiforme</em>: with a length of about 9,000,000 nitrogenous base pairs\n",
    "* <em>Apis mellifera</em>: with a total length of about 23,6000,000 nitrogenous base pairs (16 chromosomes)\n",
    "\n",
    "On which the search is made for a gene of variable size, but typically in the order of a thousand letters (nitrogenous bases)."
   ]
  },
  {
   "cell_type": "markdown",
   "metadata": {},
   "source": [
    "Our tests for both performance and program debugging are <em>automated</em> via a Python script that tests the code with different numbers of cores, with different data-sets. In particular, with the same number of cores and data-sets, three tests are carried out, ie the search for three different genes located in non-contiguous positions. "
   ]
  },
  {
   "cell_type": "markdown",
   "metadata": {},
   "source": [
    "# 5) Performance and scalibility analysis"
   ]
  },
  {
   "cell_type": "markdown",
   "metadata": {},
   "source": [
    "All testing, performance, and scalability assessment, was conducted on the Google Cloud Platform. \n",
    "\n",
    "In particular, we created the cluster according to the \"light cluster\" technique consisting of 7 machines (1 master and 6 slaves). Each with 2vCores and 8GB of memory. All machines are within the same geographic region.\n",
    "\n",
    "We also tested the program on another separate (single) machine with 16vCores, for the sake of comparison.\n",
    "\n",
    "\n",
    "<img src=\"./images/cluster8.png\" width=\"300\" style=\"display: block; margin-left: auto; margin-right: auto; width: 50%;\">"
   ]
  },
  {
   "cell_type": "markdown",
   "metadata": {},
   "source": [
    "#### The Shape of the data collected by our scripts:\n",
    "(Each row represents an experiment)"
   ]
  },
  {
   "cell_type": "code",
   "execution_count": 30,
   "metadata": {},
   "outputs": [
    {
     "data": {
      "text/html": [
       "<div>\n",
       "<style scoped>\n",
       "    .dataframe tbody tr th:only-of-type {\n",
       "        vertical-align: middle;\n",
       "    }\n",
       "\n",
       "    .dataframe tbody tr th {\n",
       "        vertical-align: top;\n",
       "    }\n",
       "\n",
       "    .dataframe thead th {\n",
       "        text-align: right;\n",
       "    }\n",
       "</style>\n",
       "<table border=\"1\" class=\"dataframe\">\n",
       "  <thead>\n",
       "    <tr style=\"text-align: right;\">\n",
       "      <th></th>\n",
       "      <th>text_size</th>\n",
       "      <th>pattern_size</th>\n",
       "      <th>num_occurances</th>\n",
       "      <th>millisecs</th>\n",
       "      <th>genome</th>\n",
       "      <th>gene_index</th>\n",
       "      <th>num_cores</th>\n",
       "      <th>subtext_size</th>\n",
       "    </tr>\n",
       "  </thead>\n",
       "  <tbody>\n",
       "    <tr>\n",
       "      <th>0</th>\n",
       "      <td>5594837</td>\n",
       "      <td>2463</td>\n",
       "      <td>1.0</td>\n",
       "      <td>58.257</td>\n",
       "      <td>e_coli</td>\n",
       "      <td>2</td>\n",
       "      <td>1</td>\n",
       "      <td>NaN</td>\n",
       "    </tr>\n",
       "    <tr>\n",
       "      <th>1</th>\n",
       "      <td>5594837</td>\n",
       "      <td>771</td>\n",
       "      <td>1.0</td>\n",
       "      <td>58.532</td>\n",
       "      <td>e_coli</td>\n",
       "      <td>40</td>\n",
       "      <td>1</td>\n",
       "      <td>NaN</td>\n",
       "    </tr>\n",
       "    <tr>\n",
       "      <th>2</th>\n",
       "      <td>5594837</td>\n",
       "      <td>699</td>\n",
       "      <td>1.0</td>\n",
       "      <td>58.766</td>\n",
       "      <td>e_coli</td>\n",
       "      <td>1234</td>\n",
       "      <td>1</td>\n",
       "      <td>NaN</td>\n",
       "    </tr>\n",
       "    <tr>\n",
       "      <th>3</th>\n",
       "      <td>5594837</td>\n",
       "      <td>2463</td>\n",
       "      <td>1.0</td>\n",
       "      <td>79.264</td>\n",
       "      <td>e_coli</td>\n",
       "      <td>2</td>\n",
       "      <td>2</td>\n",
       "      <td>5594837.0</td>\n",
       "    </tr>\n",
       "    <tr>\n",
       "      <th>4</th>\n",
       "      <td>5594837</td>\n",
       "      <td>771</td>\n",
       "      <td>1.0</td>\n",
       "      <td>78.910</td>\n",
       "      <td>e_coli</td>\n",
       "      <td>40</td>\n",
       "      <td>2</td>\n",
       "      <td>5594837.0</td>\n",
       "    </tr>\n",
       "  </tbody>\n",
       "</table>\n",
       "</div>"
      ],
      "text/plain": [
       "   text_size  pattern_size  num_occurances  millisecs  genome  gene_index  \\\n",
       "0    5594837          2463             1.0     58.257  e_coli           2   \n",
       "1    5594837           771             1.0     58.532  e_coli          40   \n",
       "2    5594837           699             1.0     58.766  e_coli        1234   \n",
       "3    5594837          2463             1.0     79.264  e_coli           2   \n",
       "4    5594837           771             1.0     78.910  e_coli          40   \n",
       "\n",
       "   num_cores  subtext_size  \n",
       "0          1           NaN  \n",
       "1          1           NaN  \n",
       "2          1           NaN  \n",
       "3          2     5594837.0  \n",
       "4          2     5594837.0  "
      ]
     },
     "execution_count": 30,
     "metadata": {},
     "output_type": "execute_result"
    }
   ],
   "source": [
    "df = pd.read_json(\"./testBigOne.txt\")\n",
    "df.head(5)"
   ]
  },
  {
   "cell_type": "markdown",
   "metadata": {},
   "source": [
    "(In the case of our light-cluster, 'num_cores' denotes the number of machines employed in the experiment, since each of the machines provided one core to the overall computation effort)."
   ]
  },
  {
   "cell_type": "markdown",
   "metadata": {},
   "source": [
    "### Analysis of the Execution Time\n",
    "(Single Machine)"
   ]
  },
  {
   "cell_type": "markdown",
   "metadata": {},
   "source": [
    "The following graph shows how the performance trend (execution time) varies according to the number of cores. We effectively group our data by \"num_cores\" and show the mean. This data was taken through our automated test launched on a single machine, with 8 cores available."
   ]
  },
  {
   "cell_type": "code",
   "execution_count": 12,
   "metadata": {},
   "outputs": [
    {
     "data": {
      "image/png": "[encoded data removed]",
      "text/plain": [
       "<Figure size 432x288 with 1 Axes>"
      ]
     },
     "metadata": {
      "needs_background": "light"
     },
     "output_type": "display_data"
    }
   ],
   "source": [
    "df.groupby( \"num_cores\" ).millisecs.mean().plot()\n",
    "plt.grid()"
   ]
  },
  {
   "cell_type": "markdown",
   "metadata": {},
   "source": [
    "The graph above shows, first and foremost, that the serial algorithm is faster than the 2-core (1 master and 1 slave) implementation, a result that we expected. \n",
    "\n",
    "This is due to the sheer overhead of OpenMPI, and because there is actually only one slave doing the <em>search</em>. On the other hand, when the number of slaves grows, you can see how the performance gradually improves at each new slave."
   ]
  },
  {
   "cell_type": "markdown",
   "metadata": {},
   "source": [
    "### Analysis of the speed-up\n",
    "(Single Machine)"
   ]
  },
  {
   "cell_type": "markdown",
   "metadata": {},
   "source": [
    "The next graph shows the performance trend, launching the automated test inside a single machine with 8 cores, in terms of speed-up. That is the ratio between the execution time of the serial algorithm and the parallel one."
   ]
  },
  {
   "cell_type": "code",
   "execution_count": 31,
   "metadata": {},
   "outputs": [],
   "source": [
    "def serialMean(row):\n",
    "    \"\"\"\n",
    "    Computes the speedup w/ respect to the serial implementation.\n",
    "    \"\"\"\n",
    "    means = df[df.num_cores==1].groupby(\"genome\").millisecs.mean()\n",
    "    return means[row.genome]/row.millisecs"
   ]
  },
  {
   "cell_type": "code",
   "execution_count": 32,
   "metadata": {},
   "outputs": [
    {
     "data": {
      "image/png": "[encoded data removed]",
      "text/plain": [
       "<Figure size 432x288 with 1 Axes>"
      ]
     },
     "metadata": {
      "needs_background": "light"
     },
     "output_type": "display_data"
    }
   ],
   "source": [
    "df[\"speedup\"] = df.apply(serialMean,axis=1)\n",
    "df[df.num_cores!=1].groupby(\"num_cores\").speedup.mean().plot()\n",
    "plt.grid()"
   ]
  },
  {
   "cell_type": "markdown",
   "metadata": {},
   "source": [
    "We notice how the speed-up increases (from 3 cores and above) with the increase in the number of cores used for substring search. \n",
    "An expected result, indeed exceeding our expectations from the two a priori analyses."
   ]
  },
  {
   "cell_type": "markdown",
   "metadata": {},
   "source": [
    "### Memory Analysis"
   ]
  },
  {
   "cell_type": "markdown",
   "metadata": {},
   "source": [
    "???"
   ]
  },
  {
   "cell_type": "markdown",
   "metadata": {},
   "source": [
    "### Scalability Analysis"
   ]
  },
  {
   "cell_type": "markdown",
   "metadata": {},
   "source": [
    "This section shows the results related to the scalability analysis. Results made using the cluster on Google Colud Platform. We used 1 master with 6 slaves, each with 2 Vcores. Studied both strong and weak scalabilty."
   ]
  },
  {
   "cell_type": "code",
   "execution_count": 33,
   "metadata": {},
   "outputs": [],
   "source": [
    "df = pd.read_json(\"./test_cluster2.txt\").dropna().reset_index(drop=True)"
   ]
  },
  {
   "cell_type": "markdown",
   "metadata": {},
   "source": [
    "#### Strong Scalability\n",
    "(Cluster)"
   ]
  },
  {
   "cell_type": "markdown",
   "metadata": {},
   "source": [
    "As for strong scalability, what we expect is that by keeping the problem size the same, if the number of cores (machines / slaves) available doubles, then the execution time should be halved."
   ]
  },
  {
   "cell_type": "code",
   "execution_count": 35,
   "metadata": {},
   "outputs": [
    {
     "data": {
      "text/plain": [
       "[<matplotlib.lines.Line2D at 0x7f30d2b53730>]"
      ]
     },
     "execution_count": 35,
     "metadata": {},
     "output_type": "execute_result"
    },
    {
     "data": {
      "image/png": "[encoded data removed]",
      "text/plain": [
       "<Figure size 1440x360 with 2 Axes>"
      ]
     },
     "metadata": {
      "needs_background": "light"
     },
     "output_type": "display_data"
    }
   ],
   "source": [
    "fig, axes = plt.subplots(ncols=2,figsize=(20,5))\n",
    "df[df.genome==\"nostoc\"].groupby( \"num_cores\" ).millisecs.mean().plot(ax = axes[0])\n",
    "df[df.genome==\"e_coli\"].groupby( \"num_cores\" ).millisecs.mean().plot(ax = axes[0])\n",
    "df[df.genome==\"apis\"].groupby( \"num_cores\" ).millisecs.mean().plot(ax = axes[1])\n",
    "axes[0].grid()\n",
    "axes[1].grid()\n",
    "axes[1].legend((\"apis\",))\n",
    "axes[0].legend((\"nostoc\",\"e_coli\"))\n",
    "axes[1].plot(3,2253,\"ro\")\n",
    "axes[1].plot(7,1255,\"ro\")"
   ]
  },
  {
   "cell_type": "markdown",
   "metadata": {},
   "source": [
    "What the Apis graph shows is consistent with our expectations. For example, if we look with 4 cores (3 slaves) and with 7 cores (6 slaves), we notice how the execution time is approximately halved. \n",
    "\n",
    "On the other hand, the nostoc and e_coli graphs contradict our expectations. This can probably be explained by the presence of the network communication overhead (by the machines in the cluster), that it is more significant when the chunks of useful data are smaller (nostoc and e_coli). "
   ]
  },
  {
   "cell_type": "markdown",
   "metadata": {},
   "source": [
    "#### Weak Scalability\n",
    "(Cluster)"
   ]
  },
  {
   "cell_type": "markdown",
   "metadata": {},
   "source": [
    "For the weak scalability, data always acquired on the cluster and by launching our automated test, what we expect is that if, for example, the size of the data-set grows by 2 times  and the number of cores (machines / slaves) grows by 2 times. The sub-text analyzed by each slave remains of the same size, so the execution time should remain the <em>same</em>."
   ]
  },
  {
   "cell_type": "code",
   "execution_count": 17,
   "metadata": {},
   "outputs": [],
   "source": [
    "df = pd.read_json(\"./test_weak_scalability.txt\")"
   ]
  },
  {
   "cell_type": "code",
   "execution_count": 18,
   "metadata": {},
   "outputs": [
    {
     "data": {
      "text/plain": [
       "[<matplotlib.lines.Line2D at 0x7f30d306ae80>]"
      ]
     },
     "execution_count": 18,
     "metadata": {},
     "output_type": "execute_result"
    },
    {
     "data": {
      "image/png": "[encoded data removed]",
      "text/plain": [
       "<Figure size 432x288 with 1 Axes>"
      ]
     },
     "metadata": {
      "needs_background": "light"
     },
     "output_type": "display_data"
    }
   ],
   "source": [
    "df[df.genome==\"nostoc\"].groupby( \"num_cores\" ).millisecs.mean().plot()\n",
    "df[df.genome==\"e_coli\"].groupby( \"num_cores\" ).millisecs.mean().plot()\n",
    "plt.grid()\n",
    "plt.legend((\"nostoc\",\"e_coli\"))\n",
    "plt.plot(3,62,\"ro\")\n",
    "plt.plot(5,81,\"ro\")\n",
    "plt.plot(4,60,\"bo\")\n",
    "plt.plot(7,88,\"bo\")"
   ]
  },
  {
   "cell_type": "markdown",
   "metadata": {},
   "source": [
    "The obtained results are not consistent with our expectations. The data-set doubled, the number of cores (slaves) doubled but the time is not constant. Probably due to the network communication overhead. "
   ]
  },
  {
   "cell_type": "markdown",
   "metadata": {},
   "source": [
    "#### Weak Scalability\n",
    "( Single Machine)"
   ]
  },
  {
   "cell_type": "markdown",
   "metadata": {},
   "source": [
    "We tried, the same <em>weak</em> scalabilty test, but inside a single machine with 16 Vcores."
   ]
  },
  {
   "cell_type": "code",
   "execution_count": 19,
   "metadata": {},
   "outputs": [],
   "source": [
    "df = pd.read_json(\"./test_weak_scalability_single_machine.txt\")"
   ]
  },
  {
   "cell_type": "code",
   "execution_count": 20,
   "metadata": {},
   "outputs": [
    {
     "data": {
      "text/plain": [
       "[<matplotlib.lines.Line2D at 0x7f30d2cf4040>]"
      ]
     },
     "execution_count": 20,
     "metadata": {},
     "output_type": "execute_result"
    },
    {
     "data": {
      "image/png": "[encoded data removed]",
      "text/plain": [
       "<Figure size 432x288 with 1 Axes>"
      ]
     },
     "metadata": {
      "needs_background": "light"
     },
     "output_type": "display_data"
    }
   ],
   "source": [
    "df[df.genome==\"nostoc\"].groupby( \"num_cores\" ).millisecs.mean().plot()\n",
    "df[df.genome==\"e_coli\"].groupby( \"num_cores\" ).millisecs.mean().plot()\n",
    "plt.grid()\n",
    "plt.legend((\"nostoc\",\"e_coli\"))\n",
    "plt.plot(3,38,\"ro\")\n",
    "plt.plot(5,44,\"ro\")\n",
    "plt.plot(4,27,\"bo\")\n",
    "plt.plot(7,33,\"bo\")"
   ]
  },
  {
   "cell_type": "markdown",
   "metadata": {},
   "source": [
    "The results above are closer to our expectations. \n",
    "\n",
    "The size of the data-set doubled, the number of cores (slaves) doubled and the time is almost constant. This can be explained by the absence of the network communication overhead (in a single machine)."
   ]
  },
  {
   "cell_type": "markdown",
   "metadata": {},
   "source": [
    "## 6) Conlusion"
   ]
  },
  {
   "cell_type": "markdown",
   "metadata": {},
   "source": [
    "A small final table showing the contribution of both to the project."
   ]
  },
  {
   "cell_type": "markdown",
   "metadata": {},
   "source": [
    "<table style=\"display: block; margin-left: auto; margin-right: auto; width: 50%;\">\n",
    "    <tr>\n",
    "        <th>Topic</th>\n",
    "        <th>Davide Pio Lotito</th>\n",
    "        <th>Aiman Al Masoud</th>\n",
    "  </tr>\n",
    "  <tr>\n",
    "        <td>A-priori study</td>\n",
    "        <td>50%</td>\n",
    "        <td>50%</td>\n",
    "  </tr>\n",
    "  <tr>\n",
    "        <td>C++ code</td>\n",
    "        <td>50%</td>\n",
    "        <td>50%</td>\n",
    "  </tr>\n",
    "  </tr>\n",
    "        <tr>\n",
    "        <td>openMPI</td>\n",
    "        <td>40%</td>\n",
    "        <td>60%</td>\n",
    "  </tr>\n",
    "  <tr>\n",
    "        <td>Automated test script</td>\n",
    "        <td>30%</td>\n",
    "        <td>70%</td>\n",
    "  </tr>\n",
    "  <tr>\n",
    "        <td>Performance/Memory and scalibility</td>\n",
    "        <td>60%</td>\n",
    "        <td>40%</td>\n",
    "  </tr>\n",
    "  <tr>\n",
    "        <td>Google Colud Platform</td>\n",
    "        <td>30%</td>\n",
    "        <td>70%</td>\n",
    "  </tr>\n",
    "  <tr>\n",
    "        <td>Jupyter notebook for the final report</td>\n",
    "        <td>50%</td>\n",
    "        <td>50%</td>\n",
    "  </tr> \n",
    "</table> "
   ]
  }
 ],
 "metadata": {
  "interpreter": {
   "hash": "916dbcbb3f70747c44a77c7bcd40155683ae19c65e1c03b4aa3499c5328201f1"
  },
  "kernelspec": {
   "display_name": "Python 3 (ipykernel)",
   "language": "python",
   "name": "python3"
  },
  "language_info": {
   "codemirror_mode": {
    "name": "ipython",
    "version": 3
   },
   "file_extension": ".py",
   "mimetype": "text/x-python",
   "name": "python",
   "nbconvert_exporter": "python",
   "pygments_lexer": "ipython3",
   "version": "3.8.10"
  }
 },
 "nbformat": 4,
 "nbformat_minor": 4
}
